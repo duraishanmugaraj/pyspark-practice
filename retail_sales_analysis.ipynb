{
 "cells": [
  {
   "cell_type": "code",
   "execution_count": null,
   "metadata": {},
   "outputs": [],
   "source": [
    "from pyspark.sql import SparkSession\n",
    "from pyspark.sql.types import StructType, StructField, StringType, FloatType, IntegerType, DateType\n",
    "from pyspark.sql import Window as W\n",
    "import pyspark.sql.functions as F\n",
    "\n",
    "# Initialize SparkSession\n",
    "spark = SparkSession.builder \\\n",
    "    .appName(\"RetailSales\") \\\n",
    "    .getOrCreate()\n",
    "spark"
   ]
  },
  {
   "cell_type": "code",
   "execution_count": null,
   "metadata": {},
   "outputs": [],
   "source": [
    "# Define the schema\n",
    "schema = StructType([\n",
    "    StructField(\"transactions_id\", IntegerType(), True),\n",
    "    StructField(\"sale_date\", DateType(), True),\n",
    "    StructField(\"sale_time\", StringType(), True),  # TimeType can be replaced with StringType if needed\n",
    "    StructField(\"customer_id\", IntegerType(), True),\n",
    "    StructField(\"gender\", StringType(), True),\n",
    "    StructField(\"age\", IntegerType(), True),\n",
    "    StructField(\"category\", StringType(), True),\n",
    "    StructField(\"quantity\", IntegerType(), True),\n",
    "    StructField(\"price_per_unit\", FloatType(), True),\n",
    "    StructField(\"cogs\", FloatType(), True),  # Cost of Goods Sold\n",
    "    StructField(\"total_sale\", FloatType(), True)\n",
    "])\n",
    "\n",
    "# Read the CSV file into a DataFrame\n",
    "df = spark.read.csv(\"/data/Retail-Sales-Analysis.csv\", header=True, schema=schema)\n",
    "\n",
    "df.createOrReplaceTempView(\"retail_sales\")\n",
    "spark.sql(\"SELECT * FROM retail_sales LIMIT 10\").show()"
   ]
  },
  {
   "cell_type": "code",
   "execution_count": null,
   "metadata": {},
   "outputs": [],
   "source": [
    "# Write a SQL query to calculate the total sales (total_sale) for each category\n",
    "# Write a SQL query to find the average age of customers who purchased items from the 'Beauty' category\n",
    "# Write a SQL query to find the total number of transactions (transaction_id) made by each gender in each category\n",
    "# Write a SQL query to find the top 5 customers based on the highest total sales\n",
    "# Write a SQL query to find the number of unique customers who purchased items from each category\n",
    "# Write a SQL query to create each shift and number of orders (Example Morning <12, Afternoon Between 12 & 17, Evening >17)\n",
    "# Write a SQL query to calculate the average sale for each month. Find out best selling month in each year\n"
   ]
  }
 ],
 "metadata": {
  "kernelspec": {
   "display_name": "Python 3",
   "language": "python",
   "name": "python3"
  },
  "language_info": {
   "codemirror_mode": {
    "name": "ipython",
    "version": 3
   },
   "file_extension": ".py",
   "mimetype": "text/x-python",
   "name": "python",
   "nbconvert_exporter": "python",
   "pygments_lexer": "ipython3",
   "version": "3.8.0"
  }
 },
 "nbformat": 4,
 "nbformat_minor": 2
}
