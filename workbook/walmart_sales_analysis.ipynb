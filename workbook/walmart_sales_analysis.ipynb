{
 "cells": [
  {
   "cell_type": "code",
   "execution_count": 1,
   "metadata": {},
   "outputs": [
    {
     "name": "stderr",
     "output_type": "stream",
     "text": [
      "Setting default log level to \"WARN\".\n",
      "To adjust logging level use sc.setLogLevel(newLevel). For SparkR, use setLogLevel(newLevel).\n",
      "24/09/02 06:34:44 WARN NativeCodeLoader: Unable to load native-hadoop library for your platform... using builtin-java classes where applicable\n"
     ]
    },
    {
     "data": {
      "text/html": [
       "\n",
       "            <div>\n",
       "                <p><b>SparkSession - in-memory</b></p>\n",
       "                \n",
       "        <div>\n",
       "            <p><b>SparkContext</b></p>\n",
       "\n",
       "            <p><a href=\"http://master:4040\">Spark UI</a></p>\n",
       "\n",
       "            <dl>\n",
       "              <dt>Version</dt>\n",
       "                <dd><code>v3.5.2</code></dd>\n",
       "              <dt>Master</dt>\n",
       "                <dd><code>spark://master:7077</code></dd>\n",
       "              <dt>AppName</dt>\n",
       "                <dd><code>WalmartSales</code></dd>\n",
       "            </dl>\n",
       "        </div>\n",
       "        \n",
       "            </div>\n",
       "        "
      ],
      "text/plain": [
       "<pyspark.sql.session.SparkSession at 0x727dacfc7e20>"
      ]
     },
     "execution_count": 1,
     "metadata": {},
     "output_type": "execute_result"
    }
   ],
   "source": [
    "from pyspark.sql import SparkSession\n",
    "from pyspark.sql.types import StructType, StructField, StringType, FloatType, IntegerType, DateType\n",
    "from pyspark.sql import Window as W\n",
    "import pyspark.sql.functions as F\n",
    "\n",
    "# Initialize SparkSession\n",
    "spark = SparkSession.builder \\\n",
    "    .appName(\"WalmartSales\") \\\n",
    "    .getOrCreate()\n",
    "spark"
   ]
  },
  {
   "cell_type": "code",
   "execution_count": 2,
   "metadata": {},
   "outputs": [
    {
     "name": "stderr",
     "output_type": "stream",
     "text": [
      "                                                                                \r"
     ]
    },
    {
     "name": "stdout",
     "output_type": "stream",
     "text": [
      "+-----------+------+------------+-------------+------+----------------------+----------+--------+-------+--------+----------+--------+--------------+------+\n",
      "|invoice_id |branch|city        |customer_type|gender|product_line          |unit_price|quantity|vat    |total   |date      |time    |payment_method|rating|\n",
      "+-----------+------+------------+-------------+------+----------------------+----------+--------+-------+--------+----------+--------+--------------+------+\n",
      "|750-67-8428|D     |San Jose    |Member       |Female|Health and beauty     |74.69     |7       |26.1415|548.9715|2019-01-05|13:08:00|Ewallet       |9.1   |\n",
      "|226-31-3081|A     |Philadelphia|Normal       |Female|Electronic accessories|15.28     |5       |3.82   |80.22   |2019-03-08|10:29:00|Cash          |9.6   |\n",
      "|631-41-3108|A     |Phoenix     |Normal       |Male  |Home and lifestyle    |46.33     |7       |16.2155|340.5255|2019-03-03|13:23:00|Credit card   |7.4   |\n",
      "|123-19-1176|B     |New York    |Member       |Male  |Health and beauty     |58.22     |8       |23.288 |489.048 |2019-01-27|20:33:00|Ewallet       |8.4   |\n",
      "|373-73-7910|A     |Chicago     |Normal       |Male  |Sports and travel     |86.31     |7       |30.2085|634.3785|2019-02-08|10:37:00|Ewallet       |5.3   |\n",
      "|699-14-3026|B     |Philadelphia|Normal       |Male  |Electronic accessories|85.39     |7       |29.8865|627.6165|2019-03-25|18:30:00|Ewallet       |4.1   |\n",
      "|355-53-5943|C     |Los Angeles |Member       |Female|Electronic accessories|68.84     |6       |20.652 |433.692 |2019-02-25|14:36:00|Ewallet       |5.8   |\n",
      "|315-22-5665|D     |Philadelphia|Normal       |Female|Home and lifestyle    |73.56     |10      |36.78  |772.38  |2019-02-24|11:38:00|Ewallet       |8.0   |\n",
      "|665-32-9167|A     |New York    |Member       |Female|Health and beauty     |36.26     |2       |3.626  |76.146  |2019-01-10|17:15:00|Credit card   |7.2   |\n",
      "|692-92-5582|A     |Philadelphia|Member       |Female|Food and beverages    |54.84     |3       |8.226  |172.746 |2019-02-20|13:27:00|Credit card   |5.9   |\n",
      "+-----------+------+------------+-------------+------+----------------------+----------+--------+-------+--------+----------+--------+--------------+------+\n",
      "\n"
     ]
    }
   ],
   "source": [
    "# Define the schema\n",
    "schema = StructType([\n",
    "    StructField(\"invoice_id\", StringType(), True),\n",
    "    StructField(\"branch\", StringType(), True),\n",
    "    StructField(\"city\", StringType(), True),\n",
    "    StructField(\"customer_type\", StringType(), True),\n",
    "    StructField(\"gender\", StringType(), True),\n",
    "    StructField(\"product_line\", StringType(), True),\n",
    "    StructField(\"unit_price\", FloatType(), True),\n",
    "    StructField(\"quantity\", IntegerType(), True),\n",
    "    StructField(\"vat\", FloatType(), True),\n",
    "    StructField(\"total\", FloatType(), True),\n",
    "    StructField(\"date\", DateType(), True),\n",
    "    StructField(\"time\", StringType(), True),\n",
    "    StructField(\"payment_method\", StringType(), True),\n",
    "    StructField(\"rating\", FloatType(), True)\n",
    "])\n",
    "\n",
    "# Read the CSV file into a DataFrame\n",
    "df = spark.read.csv(\"/data/Walmart-Sales-dataset.csv\", header=True, schema=schema)\n",
    "\n",
    "df.createOrReplaceTempView(\"walmart_sales\")\n",
    "spark.sql(\"SELECT * FROM walmart_sales LIMIT 10\").show(20,False)"
   ]
  },
  {
   "cell_type": "code",
   "execution_count": 7,
   "metadata": {},
   "outputs": [
    {
     "name": "stdout",
     "output_type": "stream",
     "text": [
      "+------+------------------+\n",
      "|branch|total_sales_amount|\n",
      "+------+------------------+\n",
      "|E     |60061.02          |\n",
      "|A     |39383.12          |\n",
      "|D     |85349.6           |\n",
      "|B     |68516.88          |\n",
      "|C     |69656.14          |\n",
      "+------+------------------+\n",
      "\n",
      "+-------+------------------+\n",
      "|month  |avg_sales_amount  |\n",
      "+-------+------------------+\n",
      "|2019-02|320.8560195645877 |\n",
      "|2019-03|317.26233981588615|\n",
      "|2019-01|330.3746251165867 |\n",
      "+-------+------------------+\n",
      "\n"
     ]
    }
   ],
   "source": [
    "# -- ---------------------------------------------\n",
    "# -- Business Problems :: Basic Level\n",
    "# -- ---------------------------------------------\n",
    "# Q.1 Find the total sales amount for each branch\n",
    "\n",
    "spark.sql(\"\"\"\n",
    "select branch, round(sum(total), 2) as total_sales_amount from walmart_sales group by 1\n",
    "\"\"\").show(20,False)\n",
    "\n",
    "spark.sql(\"\"\"\n",
    "select substr(date, 0, 7) as month, avg(total) as avg_sales_amount from walmart_sales group by 1\n",
    "\"\"\").show(20,False)"
   ]
  },
  {
   "cell_type": "code",
   "execution_count": 9,
   "metadata": {},
   "outputs": [
    {
     "name": "stdout",
     "output_type": "stream",
     "text": [
      "+------------+----------+\n",
      "|city        |avg_rating|\n",
      "+------------+----------+\n",
      "|Chicago     |7.0       |\n",
      "|San Diego   |7.0       |\n",
      "|Phoenix     |7.15      |\n",
      "|San Antonio |6.73      |\n",
      "|San Jose    |7.22      |\n",
      "|Philadelphia|6.89      |\n",
      "|New York    |6.75      |\n",
      "|Dallas      |6.97      |\n",
      "|Houston     |7.07      |\n",
      "|Los Angeles |6.99      |\n",
      "+------------+----------+\n",
      "\n"
     ]
    }
   ],
   "source": [
    "\n",
    "# Q.2 Calculate the average customer rating for each city.\n",
    "\n",
    "spark.sql(\"\"\"\n",
    "select city, round(avg(rating), 2) as avg_rating from walmart_sales group by 1\n",
    "\"\"\").show(20,False)"
   ]
  },
  {
   "cell_type": "code",
   "execution_count": 10,
   "metadata": {},
   "outputs": [
    {
     "name": "stdout",
     "output_type": "stream",
     "text": [
      "+-------------+--------+\n",
      "|customer_type|count(1)|\n",
      "+-------------+--------+\n",
      "|Member       |501     |\n",
      "|Normal       |499     |\n",
      "+-------------+--------+\n",
      "\n"
     ]
    }
   ],
   "source": [
    "\n",
    "# Q.3 Count the number of sales transactions for each customer type.\n",
    "\n",
    "spark.sql(\"\"\"\n",
    "select customer_type, count(*) from walmart_sales group by 1 \n",
    "\"\"\").show(20,False)"
   ]
  },
  {
   "cell_type": "code",
   "execution_count": 11,
   "metadata": {},
   "outputs": [
    {
     "name": "stdout",
     "output_type": "stream",
     "text": [
      "+----------------------+-------------+\n",
      "|product_line          |sum(quantity)|\n",
      "+----------------------+-------------+\n",
      "|Food and beverages    |952          |\n",
      "|Fashion accessories   |902          |\n",
      "|Electronic accessories|971          |\n",
      "|Home and lifestyle    |911          |\n",
      "|Sports and travel     |920          |\n",
      "|Health and beauty     |854          |\n",
      "+----------------------+-------------+\n",
      "\n"
     ]
    }
   ],
   "source": [
    "\n",
    "# Q.4 Find the total quantity of products sold for each product line.\n",
    "\n",
    "spark.sql(\"\"\"\n",
    "select product_line, sum(quantity) from walmart_sales group by 1 \n",
    "\"\"\").show(20,False)"
   ]
  },
  {
   "cell_type": "code",
   "execution_count": 13,
   "metadata": {},
   "outputs": [
    {
     "name": "stdout",
     "output_type": "stream",
     "text": [
      "+--------------+-----------------+\n",
      "|payment_method|sum(vat)         |\n",
      "+--------------+-----------------+\n",
      "|Credit card   |4798.432011127472|\n",
      "|Cash          |5343.169990181923|\n",
      "|Ewallet       |5237.766995728016|\n",
      "+--------------+-----------------+\n",
      "\n"
     ]
    }
   ],
   "source": [
    "# Q.4 v1 Calculate the total VAT collected for each payment method.\n",
    "spark.sql(\"\"\"\n",
    "select payment_method, sum(vat) from walmart_sales group by 1 \n",
    "\"\"\").show(20,False)"
   ]
  },
  {
   "cell_type": "code",
   "execution_count": 15,
   "metadata": {},
   "outputs": [
    {
     "name": "stdout",
     "output_type": "stream",
     "text": [
      "+------+------------------+-----------+\n",
      "|branch|total_sales_amount|avg_ratting|\n",
      "+------+------------------+-----------+\n",
      "|E     |60061.02          |7.02       |\n",
      "|A     |39383.12          |6.92       |\n",
      "|D     |85349.6           |7.0        |\n",
      "|B     |68516.88          |7.06       |\n",
      "|C     |69656.14          |6.85       |\n",
      "+------+------------------+-----------+\n",
      "\n"
     ]
    }
   ],
   "source": [
    "# -- ---------------------------------------------\n",
    "# -- Business Problems :: Medium Level\n",
    "# -- ---------------------------------------------\n",
    "# Q.5 Find the total sales amount and average customer rating for each branch.\n",
    "spark.sql(\"\"\"\n",
    "select branch, round(sum(total), 2) as total_sales_amount, round(avg(rating), 2) as avg_ratting from walmart_sales group by 1\n",
    "\"\"\").show(20,False)"
   ]
  },
  {
   "cell_type": "code",
   "execution_count": 19,
   "metadata": {},
   "outputs": [
    {
     "name": "stdout",
     "output_type": "stream",
     "text": [
      "+------------+--------------------+----------------------+\n",
      "|city        |male_total_sales_amt|female_total_sales_amt|\n",
      "+------------+--------------------+----------------------+\n",
      "|Chicago     |18266.64            |16599.01              |\n",
      "|San Diego   |18379.32            |18028.95              |\n",
      "|Phoenix     |13027.78            |17397.02              |\n",
      "|San Antonio |13262.03            |17003.61              |\n",
      "|San Jose    |17475.15            |17258.71              |\n",
      "|Philadelphia|15638.99            |15511.25              |\n",
      "|New York    |14368.08            |13552.59              |\n",
      "|Dallas      |15705.43            |15103.46              |\n",
      "|Houston     |14632.76            |10744.89              |\n",
      "|Los Angeles |14327.65            |26683.43              |\n",
      "+------------+--------------------+----------------------+\n",
      "\n"
     ]
    }
   ],
   "source": [
    "# Q.6 Calculate the total sales amount for each city and gender combination.\n",
    "spark.sql(\"\"\"\n",
    "select city, \n",
    "round(sum(if(gender = 'Male', total, 0)), 2) as male_total_sales_amt,\n",
    "round(sum(if(gender = 'Female', total, 0)), 2) as female_total_sales_amt\n",
    "from walmart_sales group by 1\n",
    "\"\"\").show(20,False)"
   ]
  },
  {
   "cell_type": "code",
   "execution_count": 20,
   "metadata": {},
   "outputs": [
    {
     "name": "stdout",
     "output_type": "stream",
     "text": [
      "+----------------------+-----------------+\n",
      "|product_line          |avg(quantity)    |\n",
      "+----------------------+-----------------+\n",
      "|Food and beverages    |5.711111111111111|\n",
      "|Fashion accessories   |5.520833333333333|\n",
      "|Electronic accessories|5.809523809523809|\n",
      "|Home and lifestyle    |6.30379746835443 |\n",
      "|Sports and travel     |5.636363636363637|\n",
      "|Health and beauty     |5.359375         |\n",
      "+----------------------+-----------------+\n",
      "\n"
     ]
    }
   ],
   "source": [
    "# Q.7 Find the average quantity of products sold for each product line to female customers.\n",
    "spark.sql(\"\"\"\n",
    "select product_line, avg(quantity) from walmart_sales where gender = 'Female' group by 1 \n",
    "\"\"\").show(20,False)"
   ]
  },
  {
   "cell_type": "code",
   "execution_count": 24,
   "metadata": {},
   "outputs": [
    {
     "name": "stdout",
     "output_type": "stream",
     "text": [
      "+------+----------------------------+\n",
      "|branch|no_of_sales_tran_for_members|\n",
      "+------+----------------------------+\n",
      "|E     |107                         |\n",
      "|A     |59                          |\n",
      "|D     |134                         |\n",
      "|B     |90                          |\n",
      "|C     |111                         |\n",
      "+------+----------------------------+\n",
      "\n"
     ]
    }
   ],
   "source": [
    "\n",
    "# Q.8 Count the number of sales transactions for members in each branch.\n",
    "spark.sql(\"\"\"\n",
    "select branch, sum(if(customer_type = 'Member', 1, 0)) as no_of_sales_tran_for_members  from walmart_sales group by 1\n",
    "\"\"\").show(20,False)"
   ]
  },
  {
   "cell_type": "code",
   "execution_count": 47,
   "metadata": {},
   "outputs": [
    {
     "name": "stdout",
     "output_type": "stream",
     "text": [
      "+----------+------------------+\n",
      "|date      |total_sales_amount|\n",
      "+----------+------------------+\n",
      "|2019-03-09|7474.05           |\n",
      "|2019-02-07|7228.21           |\n",
      "|2019-03-14|7214.63           |\n",
      "|2019-02-15|6830.79           |\n",
      "|2019-03-02|6560.31           |\n",
      "|2019-03-05|6230.88           |\n",
      "|2019-01-23|5994.19           |\n",
      "|2019-01-15|5944.26           |\n",
      "|2019-02-27|5859.45           |\n",
      "|2019-03-19|5740.39           |\n",
      "|2019-02-03|5467.93           |\n",
      "|2019-03-20|5458.2            |\n",
      "|2019-01-24|5402.05           |\n",
      "|2019-02-17|5299.57           |\n",
      "|2019-01-08|5293.73           |\n",
      "|2019-01-31|5232.5            |\n",
      "|2019-01-12|5184.76           |\n",
      "|2019-02-08|5084.66           |\n",
      "|2019-01-28|4999.71           |\n",
      "|2019-01-19|4914.72           |\n",
      "+----------+------------------+\n",
      "only showing top 20 rows\n",
      "\n"
     ]
    }
   ],
   "source": [
    "# Q.9 Find the total sales amount for each day. (Return day name and their total sales order DESC by amt)\n",
    "spark.sql(\"\"\"\n",
    "select date, round(sum(total), 2) as total_sales_amount from walmart_sales \n",
    "group by 1\n",
    "order by 2 desc\n",
    "\"\"\").show(20,False)"
   ]
  },
  {
   "cell_type": "code",
   "execution_count": 32,
   "metadata": {},
   "outputs": [
    {
     "name": "stdout",
     "output_type": "stream",
     "text": [
      "+----------+------------------+\n",
      "|hour(time)|total_sales_amount|\n",
      "+----------+------------------+\n",
      "|19        |39699.51          |\n",
      "|13        |34723.23          |\n",
      "|10        |31421.48          |\n",
      "|15        |31179.51          |\n",
      "|14        |30828.4           |\n",
      "|11        |30377.33          |\n",
      "|12        |26065.88          |\n",
      "|18        |26030.34          |\n",
      "|16        |25226.32          |\n",
      "|17        |24445.22          |\n",
      "|20        |22969.53          |\n",
      "+----------+------------------+\n",
      "\n"
     ]
    }
   ],
   "source": [
    "# -- ---------------------------------------------\n",
    "# -- Business Problems :: Advanced Level\n",
    "# -- ---------------------------------------------\n",
    "# Q.10 Calculate the total sales amount for each hour of the day\n",
    "spark.sql(\"\"\"\n",
    "select hour(time), round(sum(total), 2) as total_sales_amount from walmart_sales \n",
    "group by 1\n",
    "order by 2 desc\n",
    "\"\"\").show(24,False)"
   ]
  },
  {
   "cell_type": "code",
   "execution_count": 37,
   "metadata": {},
   "outputs": [
    {
     "name": "stdout",
     "output_type": "stream",
     "text": [
      "+------------------+------------------+\n",
      "|substr(date, 0, 7)|total_sales_amount|\n",
      "+------------------+------------------+\n",
      "|2019-01           |116291.87         |\n",
      "|2019-03           |109455.51         |\n",
      "|2019-02           |97219.37          |\n",
      "+------------------+------------------+\n",
      "\n"
     ]
    }
   ],
   "source": [
    "# Q.11 Find the total sales amount for each month. (return month name and their sales)\n",
    "spark.sql(\"\"\"\n",
    "select substr(date, 0, 7), round(sum(total), 2) as total_sales_amount from walmart_sales \n",
    "group by 1\n",
    "order by 2 desc\n",
    "\"\"\").show(20,False)"
   ]
  },
  {
   "cell_type": "code",
   "execution_count": 42,
   "metadata": {},
   "outputs": [
    {
     "name": "stdout",
     "output_type": "stream",
     "text": [
      "+------+------------------+\n",
      "|branch|total_sales_amount|\n",
      "+------+------------------+\n",
      "|E     |22919.15          |\n",
      "|A     |10589.82          |\n",
      "|D     |25094.18          |\n",
      "|B     |23156.45          |\n",
      "|C     |17076.45          |\n",
      "+------+------------------+\n",
      "\n"
     ]
    }
   ],
   "source": [
    "# Q.12 Calculate the total sales amount for each branch where the average customer rating is greater than 8.\n",
    "spark.sql(\"\"\"\n",
    "select branch, round(sum(total), 2) as total_sales_amount from walmart_sales where rating > 8 group by 1\n",
    "\"\"\").show(20,False)"
   ]
  },
  {
   "cell_type": "code",
   "execution_count": 44,
   "metadata": {},
   "outputs": [
    {
     "name": "stdout",
     "output_type": "stream",
     "text": [
      "+----------------------+---------+\n",
      "|product_line          |total_vat|\n",
      "+----------------------+---------+\n",
      "|Food and beverages    |1272.53  |\n",
      "|Fashion accessories   |1199.4   |\n",
      "|Sports and travel     |1327.28  |\n",
      "|Electronic accessories|1283.51  |\n",
      "|Home and lifestyle    |1305.41  |\n",
      "|Health and beauty     |1209.71  |\n",
      "+----------------------+---------+\n",
      "\n"
     ]
    }
   ],
   "source": [
    "# Q.13 Find the total VAT collected for each product line where the total sales amount is more than 500.\n",
    "spark.sql(\"\"\"\n",
    "select product_line, round(sum(vat), 2) as total_vat from walmart_sales where total > 500 group by 1\n",
    "\"\"\").show(20,False)"
   ]
  },
  {
   "cell_type": "code",
   "execution_count": 46,
   "metadata": {},
   "outputs": [
    {
     "name": "stdout",
     "output_type": "stream",
     "text": [
      "+------+--------------------+----------------------+\n",
      "|branch|male_total_sales_amt|female_total_sales_amt|\n",
      "+------+--------------------+----------------------+\n",
      "|E     |314.66              |283.79                |\n",
      "|A     |325.6               |382.47                |\n",
      "|D     |309.85              |340.74                |\n",
      "|B     |342.28              |333.08                |\n",
      "|C     |276.99              |349.59                |\n",
      "+------+--------------------+----------------------+\n",
      "\n"
     ]
    }
   ],
   "source": [
    "# Q.14 Calculate the average sales amount for each gender in each branch.\n",
    "spark.sql(\"\"\"\n",
    "select branch, \n",
    "round(avg(if(gender = 'Male', total, null)), 2) as male_total_sales_amt,\n",
    "round(avg(if(gender = 'Female', total, null)), 2) as female_total_sales_amt\n",
    "from walmart_sales group by 1\n",
    "\"\"\").show(20,False)"
   ]
  },
  {
   "cell_type": "code",
   "execution_count": 49,
   "metadata": {},
   "outputs": [
    {
     "name": "stdout",
     "output_type": "stream",
     "text": [
      "+---------------+------------+\n",
      "|dayofweek(date)|count(total)|\n",
      "+---------------+------------+\n",
      "|7              |164         |\n",
      "|3              |158         |\n",
      "|4              |143         |\n",
      "|6              |139         |\n",
      "|5              |138         |\n",
      "|1              |133         |\n",
      "|2              |125         |\n",
      "+---------------+------------+\n",
      "\n"
     ]
    }
   ],
   "source": [
    "# Q.15 Count the number of sales transactions for each day of the week.\n",
    "spark.sql(\"\"\"\n",
    "select dayofweek(date), count(total) from walmart_sales \n",
    "group by 1\n",
    "order by 2 desc\n",
    "\"\"\").show(20,False)"
   ]
  },
  {
   "cell_type": "code",
   "execution_count": 51,
   "metadata": {},
   "outputs": [
    {
     "name": "stdout",
     "output_type": "stream",
     "text": [
      "+------------+-------------+------------------+\n",
      "|city        |customer_type|sum(total)        |\n",
      "+------------+-------------+------------------+\n",
      "|Los Angeles |Member       |21068.407461166382|\n",
      "|Dallas      |Member       |19981.573503494263|\n",
      "|Los Angeles |Normal       |19942.671062469482|\n",
      "|Chicago     |Normal       |19891.735509872437|\n",
      "|San Diego   |Member       |18923.604154586792|\n",
      "|Philadelphia|Normal       |18028.03791809082 |\n",
      "|New York    |Member       |17583.425966262817|\n",
      "|San Diego   |Normal       |17484.663130760193|\n",
      "+------------+-------------+------------------+\n",
      "\n"
     ]
    }
   ],
   "source": [
    "# Q.16 Find the total sales amount for each city and customer type combination where the number of sales transactions is greater than 50.\n",
    "spark.sql(\"\"\"\n",
    "select city, customer_type, sum(total) from walmart_sales \n",
    "group by 1, 2 having count(*) > 50\n",
    "order by 3 desc\n",
    "\"\"\").show(20,False)"
   ]
  },
  {
   "cell_type": "code",
   "execution_count": 53,
   "metadata": {},
   "outputs": [
    {
     "name": "stdout",
     "output_type": "stream",
     "text": [
      "+----------------------+--------------+------------------+\n",
      "|product_line          |payment_method|avg(unit_price)   |\n",
      "+----------------------+--------------+------------------+\n",
      "|Fashion accessories   |Cash          |61.11596460509718 |\n",
      "|Food and beverages    |Cash          |60.85807052411531 |\n",
      "|Sports and travel     |Ewallet       |58.14055536411427 |\n",
      "|Home and lifestyle    |Ewallet       |57.75687462091446 |\n",
      "|Home and lifestyle    |Cash          |57.483333438050515|\n",
      "|Sports and travel     |Credit card   |56.44490576690098 |\n",
      "|Sports and travel     |Cash          |56.435762599363166|\n",
      "|Health and beauty     |Credit card   |55.885600090026855|\n",
      "|Fashion accessories   |Credit card   |55.86928571973528 |\n",
      "|Electronic accessories|Ewallet       |55.823773546038936|\n",
      "|Health and beauty     |Ewallet       |55.23056658258978 |\n",
      "|Fashion accessories   |Ewallet       |54.78553867340088 |\n",
      "|Food and beverages    |Credit card   |54.57770478920858 |\n",
      "|Health and beauty     |Cash          |53.39550985608782 |\n",
      "|Electronic accessories|Credit card   |53.266956453738004|\n",
      "|Food and beverages    |Ewallet       |52.63196420669556 |\n",
      "|Electronic accessories|Cash          |52.03985904639875 |\n",
      "|Home and lifestyle    |Credit card   |49.391555595397946|\n",
      "+----------------------+--------------+------------------+\n",
      "\n"
     ]
    }
   ],
   "source": [
    "# Q.17 Calculate the average unit price for each product line and payment method combination.\n",
    "spark.sql(\"\"\"\n",
    "select product_line, payment_method, avg(unit_price) from walmart_sales \n",
    "group by 1, 2 \n",
    "order by 3 desc\n",
    "\"\"\").show(20,False)"
   ]
  },
  {
   "cell_type": "code",
   "execution_count": 54,
   "metadata": {},
   "outputs": [],
   "source": [
    "spark.stop()"
   ]
  }
 ],
 "metadata": {
  "kernelspec": {
   "display_name": "Python 3 (ipykernel)",
   "language": "python",
   "name": "python3"
  },
  "language_info": {
   "codemirror_mode": {
    "name": "ipython",
    "version": 3
   },
   "file_extension": ".py",
   "mimetype": "text/x-python",
   "name": "python",
   "nbconvert_exporter": "python",
   "pygments_lexer": "ipython3",
   "version": "3.8.10"
  }
 },
 "nbformat": 4,
 "nbformat_minor": 2
}
