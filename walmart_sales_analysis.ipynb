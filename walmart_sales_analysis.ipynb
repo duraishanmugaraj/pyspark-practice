{
 "cells": [
  {
   "cell_type": "code",
   "execution_count": 1,
   "metadata": {},
   "outputs": [
    {
     "name": "stderr",
     "output_type": "stream",
     "text": [
      "Setting default log level to \"WARN\".\n",
      "To adjust logging level use sc.setLogLevel(newLevel). For SparkR, use setLogLevel(newLevel).\n",
      "24/09/01 15:23:13 WARN NativeCodeLoader: Unable to load native-hadoop library for your platform... using builtin-java classes where applicable\n"
     ]
    },
    {
     "data": {
      "text/html": [
       "\n",
       "            <div>\n",
       "                <p><b>SparkSession - in-memory</b></p>\n",
       "                \n",
       "        <div>\n",
       "            <p><b>SparkContext</b></p>\n",
       "\n",
       "            <p><a href=\"http://master:4040\">Spark UI</a></p>\n",
       "\n",
       "            <dl>\n",
       "              <dt>Version</dt>\n",
       "                <dd><code>v3.5.2</code></dd>\n",
       "              <dt>Master</dt>\n",
       "                <dd><code>spark://master:7077</code></dd>\n",
       "              <dt>AppName</dt>\n",
       "                <dd><code>WalmartSales</code></dd>\n",
       "            </dl>\n",
       "        </div>\n",
       "        \n",
       "            </div>\n",
       "        "
      ],
      "text/plain": [
       "<pyspark.sql.session.SparkSession at 0x73880cdaabb0>"
      ]
     },
     "execution_count": 1,
     "metadata": {},
     "output_type": "execute_result"
    }
   ],
   "source": [
    "from pyspark.sql import SparkSession\n",
    "from pyspark.sql.types import StructType, StructField, StringType, FloatType, IntegerType, DateType\n",
    "from pyspark.sql import Window as W\n",
    "import pyspark.sql.functions as F\n",
    "\n",
    "# Initialize SparkSession\n",
    "spark = SparkSession.builder \\\n",
    "    .appName(\"WalmartSales\") \\\n",
    "    .getOrCreate()\n",
    "spark"
   ]
  },
  {
   "cell_type": "code",
   "execution_count": 3,
   "metadata": {},
   "outputs": [
    {
     "name": "stderr",
     "output_type": "stream",
     "text": [
      "                                                                                \r"
     ]
    },
    {
     "name": "stdout",
     "output_type": "stream",
     "text": [
      "+-----------+------+------------+-------------+------+----------------------+----------+--------+-------+--------+----------+--------+--------------+------+\n",
      "|invoice_id |branch|city        |customer_type|gender|product_line          |unit_price|quantity|vat    |total   |date      |time    |payment_method|rating|\n",
      "+-----------+------+------------+-------------+------+----------------------+----------+--------+-------+--------+----------+--------+--------------+------+\n",
      "|750-67-8428|D     |San Jose    |Member       |Female|Health and beauty     |74.69     |7       |26.1415|548.9715|2019-01-05|13:08:00|Ewallet       |9.1   |\n",
      "|226-31-3081|A     |Philadelphia|Normal       |Female|Electronic accessories|15.28     |5       |3.82   |80.22   |2019-03-08|10:29:00|Cash          |9.6   |\n",
      "|631-41-3108|A     |Phoenix     |Normal       |Male  |Home and lifestyle    |46.33     |7       |16.2155|340.5255|2019-03-03|13:23:00|Credit card   |7.4   |\n",
      "|123-19-1176|B     |New York    |Member       |Male  |Health and beauty     |58.22     |8       |23.288 |489.048 |2019-01-27|20:33:00|Ewallet       |8.4   |\n",
      "|373-73-7910|A     |Chicago     |Normal       |Male  |Sports and travel     |86.31     |7       |30.2085|634.3785|2019-02-08|10:37:00|Ewallet       |5.3   |\n",
      "|699-14-3026|B     |Philadelphia|Normal       |Male  |Electronic accessories|85.39     |7       |29.8865|627.6165|2019-03-25|18:30:00|Ewallet       |4.1   |\n",
      "|355-53-5943|C     |Los Angeles |Member       |Female|Electronic accessories|68.84     |6       |20.652 |433.692 |2019-02-25|14:36:00|Ewallet       |5.8   |\n",
      "|315-22-5665|D     |Philadelphia|Normal       |Female|Home and lifestyle    |73.56     |10      |36.78  |772.38  |2019-02-24|11:38:00|Ewallet       |8.0   |\n",
      "|665-32-9167|A     |New York    |Member       |Female|Health and beauty     |36.26     |2       |3.626  |76.146  |2019-01-10|17:15:00|Credit card   |7.2   |\n",
      "|692-92-5582|A     |Philadelphia|Member       |Female|Food and beverages    |54.84     |3       |8.226  |172.746 |2019-02-20|13:27:00|Credit card   |5.9   |\n",
      "+-----------+------+------------+-------------+------+----------------------+----------+--------+-------+--------+----------+--------+--------------+------+\n",
      "\n"
     ]
    }
   ],
   "source": [
    "# Define the schema\n",
    "schema = StructType([\n",
    "    StructField(\"invoice_id\", StringType(), True),\n",
    "    StructField(\"branch\", StringType(), True),\n",
    "    StructField(\"city\", StringType(), True),\n",
    "    StructField(\"customer_type\", StringType(), True),\n",
    "    StructField(\"gender\", StringType(), True),\n",
    "    StructField(\"product_line\", StringType(), True),\n",
    "    StructField(\"unit_price\", FloatType(), True),\n",
    "    StructField(\"quantity\", IntegerType(), True),\n",
    "    StructField(\"vat\", FloatType(), True),\n",
    "    StructField(\"total\", FloatType(), True),\n",
    "    StructField(\"date\", DateType(), True),\n",
    "    StructField(\"time\", StringType(), True),\n",
    "    StructField(\"payment_method\", StringType(), True),\n",
    "    StructField(\"rating\", FloatType(), True)\n",
    "])\n",
    "\n",
    "# Read the CSV file into a DataFrame\n",
    "df = spark.read.csv(\"/data/Walmart-Sales-dataset.csv\", header=True, schema=schema)\n",
    "\n",
    "df.createOrReplaceTempView(\"walmart_sales\")\n",
    "spark.sql(\"SELECT * FROM walmart_sales LIMIT 10\").show(20,False)"
   ]
  },
  {
   "cell_type": "code",
   "execution_count": null,
   "metadata": {},
   "outputs": [],
   "source": [
    "# -- ---------------------------------------------\n",
    "# -- Business Problems :: Basic Level\n",
    "# -- ---------------------------------------------\n",
    "# Q.1 Find the total sales amount for each branch\n",
    "# Q.2 Calculate the average customer rating for each city.\n",
    "# Q.3 Count the number of sales transactions for each customer type.\n",
    "# Q.4 Find the total quantity of products sold for each product line.\n",
    "# Q.4 v1 Calculate the total VAT collected for each payment method.\n"
   ]
  },
  {
   "cell_type": "code",
   "execution_count": null,
   "metadata": {},
   "outputs": [],
   "source": [
    "# -- ---------------------------------------------\n",
    "# -- Business Problems :: Medium Level\n",
    "# -- ---------------------------------------------\n",
    "# Q.5 Find the total sales amount and average customer rating for each branch.\n",
    "# Q.6 Calculate the total sales amount for each city and gender combination.\n",
    "# Q.7 Find the average quantity of products sold for each product line to female customers.\n",
    "# Q.8 Count the number of sales transactions for members in each branch.\n",
    "# Q.9 Find the total sales amount for each day. (Return day name and their total sales order DESC by amt)"
   ]
  },
  {
   "cell_type": "code",
   "execution_count": null,
   "metadata": {},
   "outputs": [],
   "source": [
    "# -- ---------------------------------------------\n",
    "# -- Business Problems :: Advanced Level\n",
    "# -- ---------------------------------------------\n",
    "# Q.10 Calculate the total sales amount for each hour of the day\n",
    "# Q.11 Find the total sales amount for each month. (return month name and their sales)\n",
    "# Q.12 Calculate the total sales amount for each branch where the average customer rating is greater than 8.\n",
    "# Q.13 Find the total VAT collected for each product line where the total sales amount is more than 500.\n",
    "# Q.14 Calculate the average sales amount for each gender in each branch.\n",
    "# Q.15 Count the number of sales transactions for each day of the week.\n",
    "# Q.16 Find the total sales amount for each city and customer type combination where the number of sales transactions is greater than 50.\n",
    "# Q.17 Calculate the average unit price for each product line and payment method combination.\n",
    "# Q.18 Find the total sales amount for each branch and hour of the day combination.\n",
    "# Q.19 Calculate the total sales amount and average customer rating for each product line where the total sales amount is greater than 1000.\n",
    "# Q.20 Calculate the total sales amount for morning (6 AM to 12 PM), afternoon (12 PM to 6 PM), and evening (6 PM to 12 AM) periods using the time condition."
   ]
  },
  {
   "cell_type": "code",
   "execution_count": 4,
   "metadata": {},
   "outputs": [],
   "source": [
    "spark.stop()"
   ]
  }
 ],
 "metadata": {
  "kernelspec": {
   "display_name": "Python 3 (ipykernel)",
   "language": "python",
   "name": "python3"
  },
  "language_info": {
   "codemirror_mode": {
    "name": "ipython",
    "version": 3
   },
   "file_extension": ".py",
   "mimetype": "text/x-python",
   "name": "python",
   "nbconvert_exporter": "python",
   "pygments_lexer": "ipython3",
   "version": "3.8.10"
  }
 },
 "nbformat": 4,
 "nbformat_minor": 2
}
