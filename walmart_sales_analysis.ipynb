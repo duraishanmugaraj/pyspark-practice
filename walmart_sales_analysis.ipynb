{
 "cells": [
  {
   "cell_type": "code",
   "execution_count": null,
   "metadata": {},
   "outputs": [],
   "source": [
    "from pyspark.sql import SparkSession\n",
    "from pyspark.sql.types import StructType, StructField, StringType, FloatType, IntegerType, DateType, TimeType\n",
    "from pyspark.sql import Window as W\n",
    "import pyspark.sql.functions as F\n",
    "\n",
    "# Initialize SparkSession\n",
    "spark = SparkSession.builder \\\n",
    "    .appName(\"WalmartSales\") \\\n",
    "    .getOrCreate()\n",
    "spark"
   ]
  },
  {
   "cell_type": "code",
   "execution_count": null,
   "metadata": {},
   "outputs": [],
   "source": [
    "# Define the schema\n",
    "schema = StructType([\n",
    "    StructField(\"invoice_id\", StringType(), True),\n",
    "    StructField(\"branch\", StringType(), True),\n",
    "    StructField(\"city\", StringType(), True),\n",
    "    StructField(\"customer_type\", StringType(), True),\n",
    "    StructField(\"gender\", StringType(), True),\n",
    "    StructField(\"product_line\", StringType(), True),\n",
    "    StructField(\"unit_price\", FloatType(), True),\n",
    "    StructField(\"quantity\", IntegerType(), True),\n",
    "    StructField(\"vat\", FloatType(), True),\n",
    "    StructField(\"total\", FloatType(), True),\n",
    "    StructField(\"date\", DateType(), True),\n",
    "    StructField(\"time\", StringType(), True),  # TimeType may not be supported, consider keeping it as StringType\n",
    "    StructField(\"payment_method\", StringType(), True),\n",
    "    StructField(\"rating\", FloatType(), True)\n",
    "])\n",
    "\n",
    "# Read the CSV file into a DataFrame\n",
    "df = spark.read.csv(\"/data/Walmart-Sales-dataset.csv\", header=True, schema=schema)\n",
    "\n",
    "df.createOrReplaceTempView(\"walmart_sales\")\n",
    "spark.sql(\"SELECT * FROM walmart_sales LIMIT 10\").show()"
   ]
  },
  {
   "cell_type": "code",
   "execution_count": null,
   "metadata": {},
   "outputs": [],
   "source": [
    "# -- ---------------------------------------------\n",
    "# -- Business Problems :: Basic Level\n",
    "# -- ---------------------------------------------\n",
    "# Q.1 Find the total sales amount for each branch\n",
    "# Q.2 Calculate the average customer rating for each city.\n",
    "# Q.3 Count the number of sales transactions for each customer type.\n",
    "# Q.4 Find the total quantity of products sold for each product line.\n",
    "# Q.4 v1 Calculate the total VAT collected for each payment method.\n"
   ]
  },
  {
   "cell_type": "code",
   "execution_count": null,
   "metadata": {},
   "outputs": [],
   "source": [
    "# -- ---------------------------------------------\n",
    "# -- Business Problems :: Medium Level\n",
    "# -- ---------------------------------------------\n",
    "# Q.5 Find the total sales amount and average customer rating for each branch.\n",
    "# Q.6 Calculate the total sales amount for each city and gender combination.\n",
    "# Q.7 Find the average quantity of products sold for each product line to female customers.\n",
    "# Q.8 Count the number of sales transactions for members in each branch.\n",
    "# Q.9 Find the total sales amount for each day. (Return day name and their total sales order DESC by amt)"
   ]
  },
  {
   "cell_type": "code",
   "execution_count": null,
   "metadata": {},
   "outputs": [],
   "source": [
    "# -- ---------------------------------------------\n",
    "# -- Business Problems :: Advanced Level\n",
    "# -- ---------------------------------------------\n",
    "# Q.10 Calculate the total sales amount for each hour of the day\n",
    "# Q.11 Find the total sales amount for each month. (return month name and their sales)\n",
    "# Q.12 Calculate the total sales amount for each branch where the average customer rating is greater than 8.\n",
    "# Q.13 Find the total VAT collected for each product line where the total sales amount is more than 500.\n",
    "# Q.14 Calculate the average sales amount for each gender in each branch.\n",
    "# Q.15 Count the number of sales transactions for each day of the week.\n",
    "# Q.16 Find the total sales amount for each city and customer type combination where the number of sales transactions is greater than 50.\n",
    "# Q.17 Calculate the average unit price for each product line and payment method combination.\n",
    "# Q.18 Find the total sales amount for each branch and hour of the day combination.\n",
    "# Q.19 Calculate the total sales amount and average customer rating for each product line where the total sales amount is greater than 1000.\n",
    "# Q.20 Calculate the total sales amount for morning (6 AM to 12 PM), afternoon (12 PM to 6 PM), and evening (6 PM to 12 AM) periods using the time condition."
   ]
  }
 ],
 "metadata": {
  "language_info": {
   "name": "python"
  }
 },
 "nbformat": 4,
 "nbformat_minor": 2
}
